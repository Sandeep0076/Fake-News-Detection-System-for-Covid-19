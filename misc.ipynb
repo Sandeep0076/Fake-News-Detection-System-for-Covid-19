{
 "cells": [
  {
   "cell_type": "markdown",
   "metadata": {
    "heading_collapsed": true
   },
   "source": [
    "## For checking trustworthiness of website : https://www.mywot.com/"
   ]
  },
  {
   "cell_type": "code",
   "execution_count": 78,
   "metadata": {
    "hidden": true
   },
   "outputs": [],
   "source": [
    "doc = extractor.get_doc_from_url('https://www.mywot.com/scorecard/facebook.com/page-1?sort=-upvotes')"
   ]
  },
  {
   "cell_type": "code",
   "execution_count": 80,
   "metadata": {
    "hidden": true
   },
   "outputs": [],
   "source": [
    "#content = doc.content"
   ]
  },
  {
   "cell_type": "markdown",
   "metadata": {
    "hidden": true
   },
   "source": [
    "### We can check the the reviews of the users and decide if its trustworthy or not (one of the feature)"
   ]
  },
  {
   "cell_type": "markdown",
   "metadata": {
    "heading_collapsed": true,
    "hidden": true
   },
   "source": [
    "### ------------------------------------------------------------------------------------------------------------"
   ]
  },
  {
   "cell_type": "code",
   "execution_count": 129,
   "metadata": {
    "hidden": true
   },
   "outputs": [],
   "source": [
    "import re \n",
    "string_test = 'This is a test line to check no. of words.'\n",
    "res = len(re.findall(r'\\w+', string_test))"
   ]
  },
  {
   "cell_type": "code",
   "execution_count": 130,
   "metadata": {
    "hidden": true
   },
   "outputs": [
    {
     "data": {
      "text/plain": [
       "10"
      ]
     },
     "execution_count": 130,
     "metadata": {},
     "output_type": "execute_result"
    }
   ],
   "source": [
    "res"
   ]
  },
  {
   "cell_type": "markdown",
   "metadata": {
    "heading_collapsed": true,
    "hidden": true
   },
   "source": [
    "### -----------------------------Check if Line is alive or not-------------------------------------"
   ]
  },
  {
   "cell_type": "code",
   "execution_count": 2,
   "metadata": {
    "hidden": true
   },
   "outputs": [
    {
     "data": {
      "text/plain": [
       "\"import urllib.request, urllib.error\\n\\nfor x in first_ten_Urls:\\n    try:\\n        conn = urllib.request.urlopen(x)\\n    except urllib.error.HTTPError as e:\\n        # Return code error (e.g. 404, 501, ...)\\n        # ...\\n        print('HTTPError: {}'.format(e.code))\\n    except urllib.error.URLError as e:\\n        # Not an HTTP-specific error (e.g. connection refused)\\n        # ...\\n        print('URLError: {}'.format(e.reason))\\n    else:\\n        # 200\\n        # ...\\n        print('good')\""
      ]
     },
     "execution_count": 2,
     "metadata": {},
     "output_type": "execute_result"
    }
   ],
   "source": [
    "import urllib.request, urllib.error\n",
    "\n",
    "for x in first_ten_Urls:\n",
    "    try:\n",
    "        conn = urllib.request.urlopen(x)\n",
    "    except urllib.error.HTTPError as e:\n",
    "        # Return code error (e.g. 404, 501, ...)\n",
    "        # ...\n",
    "        print('HTTPError: {}'.format(e.code))\n",
    "    except urllib.error.URLError as e:\n",
    "        # Not an HTTP-specific error (e.g. connection refused)\n",
    "        # ...\n",
    "        print('URLError: {}'.format(e.reason))\n",
    "    else:\n",
    "        # 200\n",
    "        # ...\n",
    "        print('good')"
   ]
  },
  {
   "cell_type": "markdown",
   "metadata": {
    "heading_collapsed": true,
    "hidden": true
   },
   "source": [
    "### <center>Dataset Information<center/>"
   ]
  },
  {
   "cell_type": "markdown",
   "metadata": {
    "hidden": true
   },
   "source": [
    "***covid19_articles_Jan-26May.csv***  Public Media Dataset(315mb) by Anacode <br>\n",
    "It has more than 75000 articles, with columns :\n",
    "Headline<br>\n",
    "Body<br>\n",
    "date it is published <br>\n",
    "URL"
   ]
  },
  {
   "cell_type": "markdown",
   "metadata": {
    "heading_collapsed": true
   },
   "source": [
    "## For getting base URL from a link "
   ]
  },
  {
   "cell_type": "code",
   "execution_count": 1,
   "metadata": {
    "hidden": true
   },
   "outputs": [
    {
     "name": "stdout",
     "output_type": "stream",
     "text": [
      "www.ballinaadvocate.com.au\n"
     ]
    }
   ],
   "source": [
    "from urllib.parse import quote,unquote,urlparse\n",
    "u=unquote(\"https://www.ballinaadvocate.com.au/news/mum-opts-to-keep-kids-home-to-stop-spread-of-covid/3972613/'\") #u= URL e.g. http://twitter.co.uk/hello/there\n",
    "g=urlparse(u)\n",
    "base_url=g.netloc\n",
    "print(base_url)\n",
    "#---------------------------------------------------\n",
    "\n",
    "from urllib.parse import quote,unquote,urlparse\n",
    "import pandas as pd\n",
    "df = pd.read_csv('Covid_dataset_new.csv')\n",
    "ls = []\n",
    "for item in df.URL:\n",
    "    u=unquote(item)\n",
    "    g=urlparse(u)\n",
    "    base_url=g.netloc\n",
    "    ls.append(base_url)"
   ]
  },
  {
   "cell_type": "markdown",
   "metadata": {
    "heading_collapsed": true
   },
   "source": [
    "## For counting and sorting the maximum occurance of URLs or  values of coumns"
   ]
  },
  {
   "cell_type": "code",
   "execution_count": 28,
   "metadata": {
    "hidden": true
   },
   "outputs": [
    {
     "data": {
      "text/plain": [
       "[('www.msn.com', 56),\n",
       " ('www.reuters.com', 48),\n",
       " ('uk.reuters.com', 44),\n",
       " ('in.reuters.com', 39),\n",
       " ('www.business-standard.com', 28),\n",
       " ('www.nbcnews.com', 17),\n",
       " ('www.fool.com', 14),\n",
       " ('www.xinhuanet.com', 14),\n",
       " ('www.marketwatch.com', 14),\n",
       " ('finance.yahoo.com', 13),\n",
       " ('www.cnbc.com', 13),\n",
       " ('www.prokerala.com', 12),\n",
       " ('www.foxnews.com', 12),\n",
       " ('news.yahoo.com', 11),\n",
       " ('www.vanguardngr.com', 10),\n",
       " ('www.dailymail.co.uk', 10),\n",
       " ('www.thestar.com.my', 10),\n",
       " ('www.cbc.ca', 9),\n",
       " ('www.theguardian.com', 9),\n",
       " ('www.china.org.cn', 9),\n",
       " ('www.straitstimes.com', 9),\n",
       " ('www.ehfcl.com', 8),\n",
       " ('articles.economictimes.indiatimes.com', 8),\n",
       " ('accesswdun.com', 8),\n",
       " ('www.forbes.com', 8),\n",
       " ('www.ibtimes.com', 8),\n",
       " ('www.dailystar.co.uk', 8),\n",
       " ('www.eveningexpress.co.uk', 8),\n",
       " ('www.mirror.co.uk', 8),\n",
       " ('www.ghanaweb.com', 7),\n",
       " ('www.tmcnet.com', 7),\n",
       " ('www.benzinga.com', 7),\n",
       " ('www.9news.com.au', 7),\n",
       " ('www.capebretonpost.com', 7),\n",
       " ('www.france24.com', 7),\n",
       " ('www.basingstokegazette.co.uk', 7),\n",
       " ('www.smh.com.au', 7),\n",
       " ('www.thesun.co.uk', 6),\n",
       " ('www.cqnews.com.au', 6),\n",
       " ('www.newindianexpress.com', 6),\n",
       " ('indianexpress.com', 6),\n",
       " ('www.timesofisrael.com', 6),\n",
       " ('www.indiatoday.in', 6),\n",
       " ('infotel.ca', 6),\n",
       " ('thehill.com', 6),\n",
       " ('www.wiltsglosstandard.co.uk', 6),\n",
       " ('revolutionradio.org', 6),\n",
       " ('www.cochranetoday.ca', 6),\n",
       " ('www.hillingdontimes.co.uk', 6),\n",
       " ('www.bangkokpost.com', 6),\n",
       " ('timesofindia.indiatimes.com', 6),\n",
       " ('www.breitbart.com', 6),\n",
       " ('www.aninews.in', 6),\n",
       " ('www.stuff.co.nz', 6),\n",
       " ('www.ksat.com', 6),\n",
       " ('www.clickondetroit.com', 6),\n",
       " ('www.businesstoday.in', 6),\n",
       " ('www.airdrietoday.com', 6),\n",
       " ('www.thetelegram.com', 6),\n",
       " ('www.thesundaily.my', 5),\n",
       " ('www.warringtonguardian.co.uk', 5),\n",
       " ('www.noosanews.com.au', 5),\n",
       " ('www.globaltimes.cn', 5),\n",
       " ('www.burnhamandhighbridgeweeklynews.co.uk', 5),\n",
       " ('www.sunstar.com.ph', 5),\n",
       " ('www.lmtonline.com', 5),\n",
       " ('www.themorningbulletin.com.au', 5),\n",
       " ('www.chicagotribune.com', 5),\n",
       " ('www.timesandstar.co.uk', 5),\n",
       " ('www.princegeorgecitizen.com', 5),\n",
       " ('globalnews.ca', 5),\n",
       " ('www.ecns.cn', 5),\n",
       " ('www.theepochtimes.com', 5),\n",
       " ('www.coolum-news.com.au', 5),\n",
       " ('www.peeblesshirenews.com', 5),\n",
       " ('www.miragenews.com', 5),\n",
       " ('abcnews.go.com', 5),\n",
       " ('www.sunshinecoastdaily.com.au', 5),\n",
       " ('deadline.com', 5),\n",
       " ('www.republicworld.com', 5),\n",
       " ('www.readingchronicle.co.uk', 5),\n",
       " ('www.warwickdailynews.com.au', 5),\n",
       " ('abc7news.com', 5),\n",
       " ('www.dorsetecho.co.uk', 5),\n",
       " ('www.digitaljournal.com', 5),\n",
       " ('gulfnews.com', 5),\n",
       " ('www.japantimes.co.jp', 5),\n",
       " ('www.moneycontrol.com', 5),\n",
       " ('www.daijiworld.com', 5),\n",
       " ('www.whitsundaytimes.com.au', 5),\n",
       " ('www.qt.com.au', 5),\n",
       " ('nypost.com', 5),\n",
       " ('edmontonsun.com', 5),\n",
       " ('www.salisburyjournal.co.uk', 5),\n",
       " ('www.cnn.com', 5),\n",
       " ('www.banburycake.co.uk', 5),\n",
       " ('www.newsmax.com', 5),\n",
       " ('www.9and10news.com', 4),\n",
       " ('www.nytimes.com', 4),\n",
       " ('www.politico.com', 4),\n",
       " ('www.swindonadvertiser.co.uk', 4),\n",
       " ('www.ksl.com', 4),\n",
       " ('www.afr.com', 4),\n",
       " ('www.westerntelegraph.co.uk', 4),\n",
       " ('www.express.co.uk', 4),\n",
       " ('www.walesonline.co.uk', 4),\n",
       " ('apnews.com', 4),\n",
       " ('www.irvinetimes.com', 4),\n",
       " ('www.rappler.com', 4),\n",
       " ('www.chinadaily.com.cn', 4),\n",
       " ('q107.com', 4),\n",
       " ('www.standard.co.uk', 4),\n",
       " ('www.680news.com', 4),\n",
       " ('www.indiatvnews.com', 4),\n",
       " ('www.koreatimes.co.kr', 4),\n",
       " ('www.rediff.com', 4),\n",
       " ('www.thisisthewestcountry.co.uk', 4),\n",
       " ('www.telegraph.co.uk', 4),\n",
       " ('www.glasgowtimes.co.uk', 4),\n",
       " ('www.clactonandfrintongazette.co.uk', 4),\n",
       " ('www.worcesternews.co.uk', 4),\n",
       " ('www.aol.co.uk', 4),\n",
       " ('www.rigzone.com', 4),\n",
       " ('www.eppingforestguardian.co.uk', 4),\n",
       " ('www.wandsworthguardian.co.uk', 4),\n",
       " ('news.sky.com', 4),\n",
       " ('www.chesterstandard.co.uk', 4),\n",
       " ('www.pennlive.com', 4),\n",
       " ('af.reuters.com', 4),\n",
       " ('www.gazetteseries.co.uk', 4),\n",
       " ('www.news957.com', 4),\n",
       " ('www.news18.com', 4),\n",
       " ('www.yorktonthisweek.com', 4),\n",
       " ('www.latimes.com', 4),\n",
       " ('africa.chinadaily.com.cn', 4),\n",
       " ('www.dudleynews.co.uk', 4),\n",
       " ('news.abs-cbn.com', 4),\n",
       " ('www.pressandjournal.co.uk', 4),\n",
       " ('www.wsaz.com', 4),\n",
       " ('www.khaleejtimes.com', 4),\n",
       " ('patch.com', 4),\n",
       " ('www.mysanantonio.com', 4),\n",
       " ('news.trust.org', 4),\n",
       " ('www.abc.net.au', 4),\n",
       " ('www.jpost.com', 4),\n",
       " ('www.barrons.com', 4),\n",
       " ('www.okotokstoday.ca', 4),\n",
       " ('www.zerohedge.com', 4),\n",
       " ('localnews8.com', 4),\n",
       " ('allafrica.com', 4),\n",
       " ('www.orissapost.com', 4),\n",
       " ('www.click2houston.com', 4),\n",
       " ('www.wkbw.com', 4),\n",
       " ('www.keighleynews.co.uk', 4),\n",
       " ('www.harrowtimes.co.uk', 4),\n",
       " ('www.caixinglobal.com', 4),\n",
       " ('www.breakingnews.ie', 4),\n",
       " ('www.wbrz.com', 4),\n",
       " ('www.bordertelegraph.com', 4),\n",
       " ('www.tweeddailynews.com.au', 4),\n",
       " ('dunyanews.tv', 4),\n",
       " ('www.irishtimes.com', 4),\n",
       " ('www.bridportnews.co.uk', 4),\n",
       " ('guernseypress.com', 4),\n",
       " ('www.lancashiretelegraph.co.uk', 4),\n",
       " ('www.news4jax.com', 4),\n",
       " ('www.watoday.com.au', 4),\n",
       " ('www.thedailystar.net', 4),\n",
       " ('www.thestandard.com.hk', 4),\n",
       " ('www.theargus.co.uk', 4),\n",
       " ('www.ballinaadvocate.com.au', 3),\n",
       " ('www.knopnews2.com', 3),\n",
       " ('www.wfae.org', 3),\n",
       " ('www.manchestereveningnews.co.uk', 3),\n",
       " ('www.azcentral.com', 3),\n",
       " ('ph.news.yahoo.com', 3),\n",
       " ('www.scoop.co.nz', 3),\n",
       " ('kelo.com', 3),\n",
       " ('talkingpointsmemo.com', 3),\n",
       " ('www.denbighshirefreepress.co.uk', 3),\n",
       " ('www.theguardian.pe.ca', 3),\n",
       " ('www.columbian.com', 3),\n",
       " ('www.prpeak.com', 3),\n",
       " ('akipress.com', 3),\n",
       " ('www.timesnownews.com', 3),\n",
       " ('in.news.yahoo.com', 3),\n",
       " ('www.asianimage.co.uk', 3),\n",
       " ('www.weforum.org', 3),\n",
       " ('www.kelownadailycourier.ca', 3),\n",
       " ('www.wharfedaleobserver.co.uk', 3),\n",
       " ('kwsn.com', 3),\n",
       " ('today.az', 3),\n",
       " ('www.fox35orlando.com', 3),\n",
       " ('morungexpress.com', 3),\n",
       " ('usa.chinadaily.com.cn', 3),\n",
       " ('www.kob.com', 3),\n",
       " ('whtc.com', 3),\n",
       " ('www.chroniclejournal.com', 3),\n",
       " ('www.burnabynow.com', 3),\n",
       " ('www.upi.com', 3),\n",
       " ('oklahoman.com', 3),\n",
       " ('tass.com', 3),\n",
       " ('www.expressandstar.com', 3),\n",
       " ('www.euronews.com', 3),\n",
       " ('www.whsv.com', 3),\n",
       " ('www.sfgate.com', 3),\n",
       " ('www.risingbd.com', 3),\n",
       " ('www.dw.com', 3),\n",
       " ('www.stroudnewsandjournal.co.uk', 3),\n",
       " ('www.tampabay.com', 3),\n",
       " ('www.surreycomet.co.uk', 3),\n",
       " ('www.gov.uk', 3),\n",
       " ('www.fox5ny.com', 3),\n",
       " ('www.voanews.com', 3),\n",
       " ('www.wjhg.com', 3),\n",
       " ('www.dailyrecord.co.uk', 3),\n",
       " ('scvnews.com', 3),\n",
       " ('dailyvoice.com', 3),\n",
       " ('www.guardian-series.co.uk', 3),\n",
       " ('www.aljazeera.com', 3),\n",
       " ('www.birminghammail.co.uk', 3),\n",
       " ('www.mprnews.org:443', 3),\n",
       " ('www.brisbanetimes.com.au', 3),\n",
       " ('www.stourbridgenews.co.uk', 3),\n",
       " ('myrepublica.nagariknetwork.com', 3),\n",
       " ('leaderpost.com', 3),\n",
       " ('www.greenwichtime.com', 3),\n",
       " ('theconversation.com', 3),\n",
       " ('wtvbam.com', 3),\n",
       " ('en.antaranews.com', 3),\n",
       " ('www.timescolonist.com', 3),\n",
       " ('www.israelnationalnews.com', 3),\n",
       " ('www.oregonlive.com', 3),\n",
       " ('www.kuer.org', 3),\n",
       " ('oilprice.com', 3),\n",
       " ('www.naharnet.com', 3),\n",
       " ('sputniknews.com', 3),\n",
       " ('www.northernstar.com.au', 3),\n",
       " ('www.thisislocallondon.co.uk', 3),\n",
       " ('www.inquirer.com', 3),\n",
       " ('www.bracknellnews.co.uk', 3),\n",
       " ('www.delta-optimist.com', 3),\n",
       " ('www.thechronicle.com.au', 3),\n",
       " ('www.natlawreview.com', 3),\n",
       " ('www.albawaba.com', 3),\n",
       " ('www.lehighvalleylive.com', 3),\n",
       " ('www.somersetcountygazette.co.uk', 3),\n",
       " ('wsau.com', 3),\n",
       " ('www.siasat.com', 3),\n",
       " ('www.malverngazette.co.uk', 3),\n",
       " ('www.news-mail.com.au', 3),\n",
       " ('www.rt.com', 3),\n",
       " ('www.kalw.org', 3),\n",
       " ('www.wglt.org', 3),\n",
       " ('wrrv.com', 3),\n",
       " ('abc7chicago.com', 3),\n",
       " ('dailytimes.com.pk', 3),\n",
       " ('www.thetimes.co.uk', 3),\n",
       " ('www.newsx.com', 3),\n",
       " ('www.eveningtelegraph.co.uk', 3),\n",
       " ('www.yorkpress.co.uk', 3),\n",
       " ('www.washingtonpost.com', 3),\n",
       " ('www.thegazette.com', 3),\n",
       " ('www.newsandstar.co.uk', 3),\n",
       " ('bangordailynews.com', 3),\n",
       " ('www.byronnews.com.au', 3),\n",
       " ('www.bowenislandundercurrent.com', 3),\n",
       " ('www.weyburnreview.com', 3),\n",
       " ('www.foxbusiness.com', 3),\n",
       " ('www.marketscreener.com', 3),\n",
       " ('www.wibw.com', 3),\n",
       " ('www.clickorlando.com', 3),\n",
       " ('www.washingtonexaminer.com', 3),\n",
       " ('isp.netscape.com', 3),\n",
       " ('www.wypr.org', 3),\n",
       " ('www.13abc.com', 3),\n",
       " ('guardian.ng', 3),\n",
       " ('www.news9.com', 3),\n",
       " ('torontosun.com', 3),\n",
       " ('jamaica-gleaner.com', 3),\n",
       " ('www.theglobeandmail.com', 3),\n",
       " ('www.houstonchronicle.com', 3),\n",
       " ('www.finanznachrichten.de', 3),\n",
       " ('www.702.co.za', 3),\n",
       " ('winnipegsun.com', 3),\n",
       " ('nationalpost.com', 3),\n",
       " ('www.campaignseries.co.uk', 3),\n",
       " ('www.abqjournal.com', 3),\n",
       " ('www.thelancasterandmorecambecitizen.co.uk', 3),\n",
       " ('www.postsouth.com', 2),\n",
       " ('www.itv.com', 2),\n",
       " ('www.wtvr.com', 2),\n",
       " ('www.wruf.com', 2),\n",
       " ('www.kalb.com', 2),\n",
       " ('www.kzyx.org', 2),\n",
       " ('kjkj.iheart.com', 2),\n",
       " ('sofiaglobe.com', 2),\n",
       " ('www.liverpoolecho.co.uk', 2),\n",
       " ('news.wfsu.org', 2),\n",
       " ('www.thenorthernecho.co.uk', 2),\n",
       " ('www.pentictonherald.ca', 2),\n",
       " ('www.bmj.com', 2),\n",
       " ('crooksandliars.com', 2),\n",
       " ('www.kxly.com', 2),\n",
       " ('www.prweb.com', 2),\n",
       " ('business.scoop.co.nz', 2),\n",
       " ('www.bgr.in', 2),\n",
       " ('www.wtvm.com', 2),\n",
       " ('www.thisiswiltshire.co.uk', 2),\n",
       " ('theadvocatengr.com', 2),\n",
       " ('wkzo.com', 2),\n",
       " ('www.dawn.com', 2),\n",
       " ('www.witn.com', 2),\n",
       " ('www.prestwichandwhitefieldguide.co.uk', 2),\n",
       " ('www.mortgagenewsdaily.com', 2),\n",
       " ('www.independent.ie', 2),\n",
       " ('www.kvnf.org', 2),\n",
       " ('theweek.com', 2),\n",
       " ('www.hppr.org', 2),\n",
       " ('www.kios.org', 2),\n",
       " ('www.enfieldindependent.co.uk', 2),\n",
       " ('www.sthelensstar.co.uk', 2),\n",
       " ('news2.onlinenigeria.com', 2),\n",
       " ('ottawacitizen.com', 2),\n",
       " ('www.nsnews.com', 2),\n",
       " ('www.weaa.org', 2),\n",
       " ('www.thesouthafrican.com', 2),\n",
       " ('www.shropshirestar.com', 2),\n",
       " ('cnnphilippines.com', 2),\n",
       " ('beta.asiaone.com', 2),\n",
       " ('euobserver.com', 2),\n",
       " ('www.bucksfreepress.co.uk', 2),\n",
       " ('asia.nikkei.com', 2),\n",
       " ('www.theadvocate.com', 2),\n",
       " ('v103.iheart.com', 2),\n",
       " ('e.vnexpress.net', 2),\n",
       " ('www.etftrends.com', 2),\n",
       " ('www.vancourier.com', 2),\n",
       " ('www.vox.com', 2),\n",
       " ('www.kilkennypeople.ie', 2),\n",
       " ('wcjmthebull.iheart.com', 2),\n",
       " ('theprint.in', 2),\n",
       " ('m.news9.com', 2),\n",
       " ('wlad.com', 2),\n",
       " ('big1065.iheart.com', 2),\n",
       " ('www.irishnews.com', 2),\n",
       " ('newsradio1470.iheart.com', 2),\n",
       " ('www.siskiyoudaily.com', 2),\n",
       " ('www.newsday.com', 2),\n",
       " ('www.bizjournals.com', 2),\n",
       " ('saudigazette.com.sa', 2),\n",
       " ('www.romseyadvertiser.co.uk', 2),\n",
       " ('wccftech.com', 2),\n",
       " ('kcjb910.iheart.com', 2),\n",
       " ('www.espn.com', 2),\n",
       " ('www.halsteadgazette.co.uk', 2),\n",
       " ('wvfm1065.com', 2),\n",
       " ('www.exchangerates.org.uk', 2),\n",
       " ('www.bbc.com', 2),\n",
       " ('inshorts.com', 2),\n",
       " ('www.ipswichadvertiser.com.au', 2),\n",
       " ('www.sussexcountian.com', 2),\n",
       " ('koreabizwire.com', 2),\n",
       " ('abc11.com', 2),\n",
       " ('www.inforum.com', 2),\n",
       " ('www.darlingtonandstocktontimes.co.uk', 2),\n",
       " ('www.jdsupra.com', 2),\n",
       " ('www.wect.com', 2),\n",
       " ('www.huffingtonpost.ca', 2),\n",
       " ('www.lynnnews.co.uk', 2),\n",
       " ('www.pressherald.com', 2),\n",
       " ('gazette.com', 2),\n",
       " ('www.smdailyjournal.com', 2),\n",
       " ('chicago.suntimes.com', 2),\n",
       " ('961kiss.iheart.com', 2),\n",
       " ('www.bpr.org', 2),\n",
       " ('www.newson6.com', 2),\n",
       " ('www.deccanchronicle.com', 2),\n",
       " ('www.eadt.co.uk', 2),\n",
       " ('www.eastlothiancourier.com', 2),\n",
       " ('www.northwalespioneer.co.uk', 2),\n",
       " ('www.morrisherald-news.com', 2),\n",
       " ('www.andoveradvertiser.co.uk', 2),\n",
       " ('abc7ny.com', 2),\n",
       " ('www.redriverradio.org', 2),\n",
       " ('tolonews.com', 2),\n",
       " ('www.justjared.com', 2),\n",
       " ('kdal610.com', 2),\n",
       " ('wnyt.com', 2),\n",
       " ('www.thejournal.ie', 2),\n",
       " ('www.waaytv.com', 2),\n",
       " ('www.bbc.co.uk', 2),\n",
       " ('thepeakfm.com', 2),\n",
       " ('www.cityam.com', 2),\n",
       " ('medicalxpress.com', 2),\n",
       " ('www.sacurrent.com', 2),\n",
       " ('paultan.org', 2),\n",
       " ('www.blackhillsfox.com', 2),\n",
       " ('www.realestate.com.au', 2),\n",
       " ('en.vietnamplus.vn', 2),\n",
       " ('people.com', 2),\n",
       " ('www.gattonstar.com.au', 2),\n",
       " ('www.alaskahighwaynews.ca', 2),\n",
       " ('www.richmond-news.com', 2),\n",
       " ('www.wsls.com', 2),\n",
       " ('www.opb.org', 2),\n",
       " ('wnok.iheart.com', 2),\n",
       " ('www.goal.com', 2),\n",
       " ('www.nzherald.co.nz', 2),\n",
       " ('www.barryanddistrictnews.co.uk', 2),\n",
       " ('www.fox26houston.com', 2),\n",
       " ('www.gladstoneobserver.com.au', 2),\n",
       " ('www.bostonglobe.com', 2),\n",
       " ('www.freshplaza.com', 2),\n",
       " ('www.tribuneindia.com', 2),\n",
       " ('wbng.com', 2),\n",
       " ('1043freshradio.ca', 2),\n",
       " ('go955.com', 2),\n",
       " ('www.wprl.org', 2),\n",
       " ('whbl.com', 2),\n",
       " ('sg.news.yahoo.com', 2),\n",
       " ('www.cravenherald.co.uk', 2),\n",
       " ('www.journal-news.com', 2),\n",
       " ('www.newsoptimist.ca', 2),\n",
       " ('www.scpr.org', 2),\n",
       " ('www.mondaq.com', 2),\n",
       " ('www.eveningnews24.co.uk', 2),\n",
       " ('www.inc.com', 2),\n",
       " ('www.saharasamay.com', 2),\n",
       " ('www.thebostonpilot.com', 2),\n",
       " ('auckland.scoop.co.nz', 2),\n",
       " ('www.masslive.com', 2),\n",
       " ('www.messengernewspapers.co.uk', 2),\n",
       " ('cnsnews.com', 2),\n",
       " ('wnmtradio.com', 2),\n",
       " ('www.winnipegfreepress.com', 2),\n",
       " ('www.burlingtoncountytimes.com', 2),\n",
       " ('www.jamestownsun.com', 2),\n",
       " ('www.dailytarheel.com', 2),\n",
       " ('www.herefordtimes.com', 2),\n",
       " ('www.nwemail.co.uk', 2),\n",
       " ('www.lbc.co.uk', 2),\n",
       " ('www.ledburyreporter.co.uk', 2),\n",
       " ('my103q.iheart.com', 2),\n",
       " ('www.wndu.com', 2),\n",
       " ('www.chron.com', 2),\n",
       " ('tuoitrenews.vn', 2),\n",
       " ('www.news8000.com', 2),\n",
       " ('witl.com', 2),\n",
       " ('jerseyeveningpost.com', 2),\n",
       " ('www.borehamwoodtimes.co.uk', 2),\n",
       " ('www.weau.com', 2),\n",
       " ('mix1065.iheart.com', 2),\n",
       " ('www.pulse.ng', 2),\n",
       " ('www.uppermichiganssource.com', 2),\n",
       " ('www.aol.com', 2),\n",
       " ('www.thenational.ae', 2),\n",
       " ('madamenoire.com', 2),\n",
       " ('www.dailyfx.com', 2),\n",
       " ('www.fox10phoenix.com', 2),\n",
       " ('www.visayandailystar.com', 2),\n",
       " ('xl93.iheart.com', 2),\n",
       " ('www.businessghana.com', 2),\n",
       " ('www.thecourier.co.uk', 2),\n",
       " ('patriotla.iheart.com', 2),\n",
       " ('star1029.iheart.com', 2),\n",
       " ('www.fox9.com', 2),\n",
       " ('k2radio.com', 2),\n",
       " ('www.afp.com', 2),\n",
       " ('www.ludlowadvertiser.co.uk', 2),\n",
       " ('www.deccanherald.com', 2),\n",
       " ('abc30.com', 2),\n",
       " ('www.arabnews.com', 2),\n",
       " ('www.ipswichstar.co.uk', 2),\n",
       " ('www.pinkvilla.com', 2),\n",
       " ('www.dailyherald.com', 2),\n",
       " ('citizen.co.za', 2),\n",
       " ('www.countypress.co.uk', 2),\n",
       " ('www.cdc.gov', 2),\n",
       " ('footwearnews.com', 2),\n",
       " ('www.iol.co.za', 2),\n",
       " ('www.runcornandwidnesworld.co.uk', 2),\n",
       " ('www.saltwire.com', 2),\n",
       " ('www.gazette-news.co.uk', 2),\n",
       " ('www.kashmirtimes.in', 2),\n",
       " ('waxe1370.iheart.com', 2),\n",
       " ('www.wkms.org', 2),\n",
       " ('www.irishexaminer.com', 2),\n",
       " ('www.theautochannel.com', 2),\n",
       " ('worldsoccertalk.com', 2),\n",
       " ('www.kpcnews.com', 2),\n",
       " ('www.newwestrecord.ca', 2),\n",
       " ('www.richmondandtwickenhamtimes.co.uk', 2),\n",
       " ('www.castanet.net', 2),\n",
       " ('www.kwqc.com', 2),\n",
       " ('www.ctvnews.ca', 2),\n",
       " ('www.informationng.com', 2),\n",
       " ('abc13.com', 2),\n",
       " ('www.limerickleader.ie', 2),\n",
       " ('www.chelmsfordweeklynews.co.uk', 2),\n",
       " ('ca.hellomagazine.com', 2),\n",
       " ('www.zawya.com', 2),\n",
       " ('www.cbs7.com', 2),\n",
       " ('www.sciencemag.org', 2),\n",
       " ('www.fenlandcitizen.co.uk', 2),\n",
       " ('www.echonews.com.au', 2),\n",
       " ('www.wlfi.com', 2),\n",
       " ('www.wsaw.com', 2),\n",
       " ('www.katc.com', 2),\n",
       " ('kvia.com', 2),\n",
       " ('www.wktv.com', 2),\n",
       " ('www.halesowennews.co.uk', 2),\n",
       " ('1023thebullfm.com', 2),\n",
       " ('www.penarthtimes.co.uk', 2),\n",
       " ('www.1310kfka.com', 2),\n",
       " ('www.thewrap.com', 2),\n",
       " ('www.dailyexcelsior.com', 2),\n",
       " ('www.desmoinesregister.com', 2),\n",
       " ('www.bournemouthecho.co.uk', 2),\n",
       " ('www.dailymercury.com.au', 2),\n",
       " ('981thehawk.com', 2),\n",
       " ('915thebeat.com', 2),\n",
       " ('www.gamespot.com', 2),\n",
       " ('www.harwichandmanningtreestandard.co.uk', 2),\n",
       " ('origin-businesstoday.intoday.in', 2),\n",
       " ('www.interfax.com', 2),\n",
       " ('www.ktre.com', 2),\n",
       " ('www.cleveland19.com', 2),\n",
       " ('knpr.org', 2),\n",
       " ('vestnikkavkaza.net', 2),\n",
       " ('www.slashgear.com', 2),\n",
       " ('1025kiss.com', 2),\n",
       " ('kstp.com', 2),\n",
       " ('www.klcc.org', 2),\n",
       " ('www.gulftoday.ae', 2),\n",
       " ('www.techradar.com', 2),\n",
       " ('1013thebrew.iheart.com', 2),\n",
       " ('www.wflx.com', 2),\n",
       " ('www.thisdaylive.com', 2),\n",
       " ('boom997.com', 2),\n",
       " ('wyrk.com', 2),\n",
       " ('www.oxfordmail.co.uk', 2),\n",
       " ('www.wellandtribune.ca', 2),\n",
       " ('www.abc-7.com', 2),\n",
       " ('www.coffscoastadvocate.com.au', 2),\n",
       " ('www.rhyljournal.co.uk', 2),\n",
       " ('www.ktvu.com', 2),\n",
       " ('www.southwalesargus.co.uk', 2),\n",
       " ('www.wbtv.com', 2),\n",
       " ('www.wowt.com', 2),\n",
       " ('www.fox32chicago.com', 2),\n",
       " ('wsvn.com', 2),\n",
       " ('www.gazetteandherald.co.uk', 2),\n",
       " ('wtaq.com', 2),\n",
       " ('www.wbur.org', 2),\n",
       " ('www.centraltelegraph.com.au', 2),\n",
       " ('kiss1023.iheart.com', 2),\n",
       " ('wdov.iheart.com', 2),\n",
       " ('www.cbsnews.com', 2),\n",
       " ('www.echo-news.co.uk', 2),\n",
       " ('www.basildonstandard.co.uk', 2),\n",
       " ('www.chardandilminsternews.co.uk', 2),\n",
       " ('www.hampshirechronicle.co.uk', 2),\n",
       " ('www.wfdd.org', 2),\n",
       " ('www.thewestmorlandgazette.co.uk', 2),\n",
       " ('www.peoriapublicradio.org', 2),\n",
       " ('vietnamnet.vn', 2),\n",
       " ('www.kgns.tv', 1),\n",
       " ('1003thebeat.iheart.com', 1),\n",
       " ('www.finalcall.com', 1),\n",
       " ('www.highlandradio.com', 1),\n",
       " ('www.2oceansvibe.com', 1),\n",
       " ('www.hawaiipublicradio.org', 1),\n",
       " ('q957.com', 1),\n",
       " ('www.kcchronicle.com', 1),\n",
       " ('www.burlingtonfreepress.com', 1),\n",
       " ('www.thomasnet.com', 1),\n",
       " ('www.wxxinews.org', 1),\n",
       " ('www.chroniclelive.co.uk', 1),\n",
       " ('ktrh.iheart.com', 1),\n",
       " ('www.whitehousedossier.com', 1),\n",
       " ('www.triplepundit.com', 1),\n",
       " ('www.idsnews.com', 1),\n",
       " ('www.autoweek.com', 1),\n",
       " ('www.santafenewmexican.com', 1),\n",
       " ('www.nzdoctor.co.nz', 1),\n",
       " ('www.popularmechanics.com', 1),\n",
       " ('www.hulldailymail.co.uk', 1),\n",
       " ('www.thestar.com', 1),\n",
       " ('vancouverisland.ctvnews.ca', 1),\n",
       " ('www.skynews.com.au', 1),\n",
       " ('theprovince.com', 1),\n",
       " ('wsrkfm.com', 1),\n",
       " ('www.science20.com', 1),\n",
       " ('www.sbs.com.au', 1),\n",
       " ('www.wdtv.com', 1),\n",
       " ('radio.wpsu.org', 1),\n",
       " ('www.wimbledonguardian.co.uk', 1),\n",
       " ('www.southwalesguardian.co.uk', 1),\n",
       " ('949thebull.iheart.com', 1),\n",
       " ('www.actionforex.com', 1),\n",
       " ('www.swissinfo.ch', 1),\n",
       " ('www.yenisafak.com', 1),\n",
       " ('kissfmseattle.iheart.com', 1),\n",
       " ('www.solomontimes.com', 1),\n",
       " ('www.mynspr.org', 1),\n",
       " ('www.vindy.com', 1),\n",
       " ('www.clydebankpost.co.uk', 1),\n",
       " ('www.kbur.com', 1),\n",
       " ('www.wdam.com', 1),\n",
       " ('newsradio540.iheart.com', 1),\n",
       " ('thecaribbeancamera.com', 1),\n",
       " ('canadafreepress.com', 1),\n",
       " ('www.railpage.com.au', 1),\n",
       " ('www.npr.org', 1),\n",
       " ('news.delaware.gov', 1),\n",
       " ('seenews.com', 1),\n",
       " ('www.kold.com', 1),\n",
       " ('www.capitalspectator.com', 1),\n",
       " ('wsfcam.iheart.com', 1),\n",
       " ('mashable.com', 1),\n",
       " ('www.fdiintelligence.com', 1),\n",
       " ('www.technologyreview.com', 1),\n",
       " ('thetyee.ca', 1),\n",
       " ('www.captivasanibel.com', 1),\n",
       " ('995theriver.iheart.com', 1),\n",
       " ('www.mymoinfo.com', 1),\n",
       " ('www.realclearpolitics.com', 1),\n",
       " ('www.today.com', 1),\n",
       " ('y108.ca', 1),\n",
       " ('www.owensoundsuntimes.com', 1),\n",
       " ('www.royalgazette.com', 1),\n",
       " ('www.dailytrust.com.ng', 1),\n",
       " ('975wcos.iheart.com', 1),\n",
       " ('www.mediafax.ro', 1),\n",
       " ('www.mangalorean.com', 1),\n",
       " ('www.htrnews.com', 1),\n",
       " ('wccfam.iheart.com', 1),\n",
       " ('kuow.org', 1),\n",
       " ('www.strategic-culture.org', 1),\n",
       " ('clarksvillenow.com', 1),\n",
       " ('www.tallahassee.com', 1),\n",
       " ('www.wrcbtv.com', 1),\n",
       " ('www.fijitimes.com', 1),\n",
       " ('www.payvand.com', 1),\n",
       " ('www.keranews.org', 1),\n",
       " ('www.nigerianeye.com', 1),\n",
       " ('www.courthousenews.com', 1),\n",
       " ('vermontbiz.com', 1),\n",
       " ('kiixcountry.iheart.com', 1),\n",
       " ('www.boston.com', 1),\n",
       " ('simpleflying.com', 1),\n",
       " ('www.pulse.com.gh', 1),\n",
       " ('1063cowboycountry.com', 1),\n",
       " ('oldies935.iheart.com', 1),\n",
       " ('kfbk.iheart.com', 1),\n",
       " ('www.theleafchronicle.com', 1),\n",
       " ('www.tillsonburgnews.com', 1),\n",
       " ('www.alabamanews.net', 1),\n",
       " ('ksisradio.com', 1),\n",
       " ('wbhpam.iheart.com', 1),\n",
       " ('newcountry991.com', 1),\n",
       " ('www.courierpostonline.com', 1),\n",
       " ('www.mysuncoast.com', 1),\n",
       " ('newsandtech.com', 1),\n",
       " ('www.yumanewsnow.com', 1),\n",
       " ('powertalk1360.iheart.com', 1),\n",
       " ('ewn.co.za', 1),\n",
       " ('global.chinadaily.com.cn', 1),\n",
       " ('www.finchannel.com', 1),\n",
       " ('www.wctv.tv', 1),\n",
       " ('www.wdel.com', 1),\n",
       " ('www.kxxv.com', 1),\n",
       " ('www.fox21online.com', 1),\n",
       " ('www.necn.com', 1),\n",
       " ('www.pressenza.com', 1),\n",
       " ('www.alainet.org', 1),\n",
       " ('theworldgame.sbs.com.au', 1),\n",
       " ('www.communitypress.ca', 1),\n",
       " ('www.femina.in', 1),\n",
       " ('www.northernpublicradio.org', 1),\n",
       " ('www.devdiscourse.com', 1),\n",
       " ('www.wthitv.com', 1),\n",
       " ('www.wilx.com', 1),\n",
       " ('www.govtech.com', 1),\n",
       " ('www.lansingstatejournal.com', 1),\n",
       " ('au.news.yahoo.com', 1),\n",
       " ('southtahoenow.com', 1),\n",
       " ('www.stripes.com', 1),\n",
       " ('www.baltictimes.com', 1),\n",
       " ('www.connexionfrance.com', 1),\n",
       " ('www.financial-planning.com', 1),\n",
       " ('www.defenseone.com', 1),\n",
       " ('www.iowastatedaily.com', 1),\n",
       " ('www.kentlive.news', 1),\n",
       " ('www.canadianinquirer.net', 1),\n",
       " ('www.blazersedge.com', 1),\n",
       " ('phys.org', 1),\n",
       " ('science.sciencemag.org', 1),\n",
       " ('b101.iheart.com', 1),\n",
       " ('www.fox13news.com', 1),\n",
       " ('www.ballstatedaily.com', 1),\n",
       " ('thedailytexan.com', 1),\n",
       " ('www.lrt.lt', 1),\n",
       " ('www.thecrimson.com', 1),\n",
       " ('www.wrestlingnewssource.com', 1),\n",
       " ('www.sootoday.com', 1),\n",
       " ('sunny.fm', 1),\n",
       " ('www.news-leader.com', 1),\n",
       " ('news.wgcu.org', 1),\n",
       " ('www.gazetadopovo.com.br', 1),\n",
       " ('www.570news.com', 1),\n",
       " ('www.snopes.com', 1),\n",
       " ('www.gazetteherald.co.uk', 1),\n",
       " ('www.information-age.com', 1),\n",
       " ('www.nationalmortgagenews.com', 1),\n",
       " ('www.devondispatch.ca', 1),\n",
       " ('en.delfi.lt', 1),\n",
       " ('www.icis.com', 1),\n",
       " ('z100radio.iheart.com', 1),\n",
       " ('www.samaa.tv', 1),\n",
       " ('www.crookstontimes.com', 1),\n",
       " ('www.aledotimesrecord.com', 1),\n",
       " ('www.ksby.com', 1),\n",
       " ('kvoa.com', 1),\n",
       " ('mydrivefm.iheart.com', 1),\n",
       " ('rocketerie.iheart.com', 1),\n",
       " ('www.scienceboard.net', 1),\n",
       " ('www.tucsonweekly.com', 1),\n",
       " ('ottawasun.com', 1),\n",
       " ('www.thetelegraph.com', 1),\n",
       " ('www.latintimes.com', 1),\n",
       " ('hungarytoday.hu', 1),\n",
       " ('www.kacu.org', 1),\n",
       " ('www.conservativereview.com', 1),\n",
       " ('www.cambridge-news.co.uk', 1),\n",
       " ('uk.finance.yahoo.com', 1),\n",
       " ('adigitalboom.com', 1),\n",
       " ('www.delawareonline.com', 1),\n",
       " ('www.ladunliadinews.com', 1),\n",
       " ('www.therepublic.com', 1),\n",
       " ('ottawa.ctvnews.ca', 1),\n",
       " ('www.mycentraloregon.com', 1),\n",
       " ('www.koimoi.com', 1),\n",
       " ('kygl.com', 1),\n",
       " ('en.interfax.com.ua', 1),\n",
       " ('auburnpub.com', 1),\n",
       " ('www.foxla.com', 1),\n",
       " ('www.dansvilleonline.com', 1),\n",
       " ('www.yourlocalguardian.co.uk', 1),\n",
       " ('www.ilfordrecorder.co.uk', 1),\n",
       " ('baguiomidlandcourier.com.ph', 1),\n",
       " ('927thevan.com', 1),\n",
       " ('kelofm.com', 1),\n",
       " ('www.cambstimes.co.uk', 1),\n",
       " ('www.thenational.scot', 1),\n",
       " ('wlap.iheart.com', 1),\n",
       " ('krro.com', 1),\n",
       " ('www.cjcyfm.com', 1),\n",
       " ('www.whec.com', 1),\n",
       " ('www.ekathimerini.com', 1),\n",
       " ('www.heraldtribune.com', 1),\n",
       " ('kgab.com', 1),\n",
       " ('big949.iheart.com', 1),\n",
       " ('www.wicz.com', 1),\n",
       " ('www.polity.org.za', 1),\n",
       " ('thecatfm.iheart.com', 1),\n",
       " ('www.kiss1027.fm', 1),\n",
       " ('www.wcax.com', 1),\n",
       " ('www.medpagetoday.com', 1),\n",
       " ('www.smallcapnetwork.com', 1),\n",
       " ('www.barbadosadvocate.com', 1),\n",
       " ('gator995.com', 1),\n",
       " ('www.jamaicaobserver.com', 1),\n",
       " ('bristolobserver.com', 1),\n",
       " ('www.heraldscotland.com', 1),\n",
       " ('www.huffpost.com', 1),\n",
       " ('edmonton.ctvnews.ca', 1),\n",
       " ('www.swimmingworldmagazine.com', 1),\n",
       " ('www.nbcdfw.com', 1),\n",
       " ('www.smetimes.in', 1),\n",
       " ('k103.iheart.com', 1),\n",
       " ('www.fox2detroit.com', 1),\n",
       " ('www.kwtx.com', 1),\n",
       " ('guyanachronicle.com', 1),\n",
       " ('waco100.iheart.com', 1),\n",
       " ('k945.com', 1),\n",
       " ('1009thebeat.iheart.com', 1),\n",
       " ('austin.culturemap.com', 1),\n",
       " ('charter97.org', 1),\n",
       " ('www.tvnz.co.nz', 1),\n",
       " ('1043hallelujahfm.iheart.com', 1),\n",
       " ('www.spokesman.com', 1),\n",
       " ('toronto.citynews.ca', 1),\n",
       " ('elvisduran.iheart.com', 1),\n",
       " ('www.560cfos.ca', 1),\n",
       " ('www.ansamed.info', 1),\n",
       " ('www.hrmagazine.co.uk', 1),\n",
       " ('kdon.iheart.com', 1),\n",
       " ('www.ajc.com', 1),\n",
       " ('www.wausaudailyherald.com', 1),\n",
       " ('thenewinquiry.com', 1),\n",
       " ('1430kasi.iheart.com', 1),\n",
       " ('catcountry1029.com', 1),\n",
       " ('570wkbn.iheart.com', 1),\n",
       " ('www.wuwf.org', 1),\n",
       " ('www.latinpost.com', 1),\n",
       " ('y969.iheart.com', 1),\n",
       " ('www.wuwm.com', 1),\n",
       " ('njbiz.com', 1),\n",
       " ('www.businesswireindia.com', 1),\n",
       " ('www.kosu.org', 1),\n",
       " ('www.newschannel5.com', 1),\n",
       " ('www.echo-pilot.com', 1),\n",
       " ('thepointsguy.com', 1),\n",
       " ('www.yahoo.com', 1),\n",
       " ('wdsm710.com', 1),\n",
       " ('www.architectsjournal.co.uk', 1),\n",
       " ('www.walb.com', 1),\n",
       " ('prescottenews.com', 1),\n",
       " ('www.lagazzettadelmezzogiorno.it', 1),\n",
       " ('www.theadvertiser.com', 1),\n",
       " ('www.elitedaily.com', 1),\n",
       " ('www.the-afc.com', 1),\n",
       " ('www.midweekherald.co.uk', 1),\n",
       " ('kashmirlife.net', 1),\n",
       " ('www.timminspress.com', 1),\n",
       " ('www.stcatharinesstandard.ca', 1),\n",
       " ('www.kaaltv.com', 1),\n",
       " ('www.tiranatimes.com', 1),\n",
       " ('941zbq.iheart.com', 1),\n",
       " ('www.thisislancashire.co.uk', 1),\n",
       " ('www.wmcactionnews5.com', 1),\n",
       " ('www.ellwoodcityledger.com', 1),\n",
       " ('www.impartialreporter.com', 1),\n",
       " ('www.abc57.com', 1),\n",
       " ('www.mix106.ca', 1),\n",
       " ('www.theindychannel.com', 1),\n",
       " ('www.africa-newsroom.com', 1),\n",
       " ('www.shu.edu', 1),\n",
       " ('www.etonline.com', 1),\n",
       " ('www.tewkesburyadmag.co.uk', 1),\n",
       " ('www.printingnews.com:443', 1),\n",
       " ('businessdayghana.com', 1),\n",
       " ('www.estevanmercury.ca', 1),\n",
       " ('www.localmatters.co.nz', 1),\n",
       " ('www.thestkittsnevisobserver.com', 1),\n",
       " ('www.localberkshire.co.uk', 1),\n",
       " ('www.the42.ie', 1),\n",
       " ('www.dumbartonreporter.co.uk', 1),\n",
       " ('q102.iheart.com', 1),\n",
       " ('www.newscenter1.tv', 1),\n",
       " ('www.hertsad.co.uk', 1),\n",
       " ('country104.com', 1),\n",
       " ('pullmanradio.com', 1),\n",
       " ('www.ensonhaber.com', 1),\n",
       " ('www.breakingisraelnews.com', 1),\n",
       " ('sokodirectory.com', 1),\n",
       " ('kdhlradio.com', 1),\n",
       " ('www.intelligentinsurer.com', 1),\n",
       " ('kgot.iheart.com', 1),\n",
       " ('www.icsf.net', 1),\n",
       " ('www.alaraby.co.uk', 1),\n",
       " ('www.watfordobserver.co.uk', 1),\n",
       " ('www.manufacturing.net:443', 1),\n",
       " ('www.live5news.com', 1),\n",
       " ('english.alarabiya.net', 1),\n",
       " ('calgarysun.com', 1),\n",
       " ('www.businesswire.com', 1),\n",
       " ('www.ncpolicywatch.com', 1),\n",
       " ('www.arabianbusiness.com', 1),\n",
       " ('www.stokesentinel.co.uk', 1),\n",
       " ('buffalonews.com', 1),\n",
       " ('921ctq.iheart.com', 1),\n",
       " ('www.nbclosangeles.com', 1),\n",
       " ('ftw.usatoday.com', 1),\n",
       " ('www.lex18.com', 1),\n",
       " ('www.sidneydailynews.com', 1),\n",
       " ('www.fox34.com', 1),\n",
       " ('chiefswire.usatoday.com', 1),\n",
       " ('www.tennessean.com', 1),\n",
       " ('www.observer.ug', 1),\n",
       " ('kazakh-tv.kz', 1),\n",
       " ('thesource.com', 1),\n",
       " ('www.fm104.ie', 1),\n",
       " ('en.royanews.tv', 1),\n",
       " ('www.sortiraparis.com', 1),\n",
       " ('sl.chineseembassy.org', 1),\n",
       " ('www.nhpr.org', 1),\n",
       " ('mix1033.iheart.com', 1),\n",
       " ('www.fauquier.com', 1),\n",
       " ('de.reuters.com', 1),\n",
       " ('aroundtherings.com', 1),\n",
       " ('www.middletownpress.com', 1),\n",
       " ('article.wn.com', 1),\n",
       " ('www.boredpanda.com', 1),\n",
       " ('boom1019.com', 1),\n",
       " ('www.hurriyetdailynews.com', 1),\n",
       " ('kfmx.com', 1),\n",
       " ('klaq.com', 1),\n",
       " ('www.stamfordadvocate.com', 1),\n",
       " ('www.kickoff.com', 1),\n",
       " ('www.cato.org', 1),\n",
       " ('pitchfork.com', 1),\n",
       " ('edmontonjournal.com', 1),\n",
       " ('www.wxyz.com', 1),\n",
       " ('www.spokanepublicradio.org', 1),\n",
       " ('www.wifr.com', 1),\n",
       " ('audioinkradio.com', 1),\n",
       " ('www.81.cn', 1),\n",
       " ('www.velonews.com', 1),\n",
       " ('woai.iheart.com', 1),\n",
       " ('dailyexpress.com.my', 1),\n",
       " ('www.pontiacdailyleader.com', 1),\n",
       " ('www.rollingstone.com', 1),\n",
       " ('diem25.org', 1),\n",
       " ('1360kktx.iheart.com', 1),\n",
       " ('600kcol.iheart.com', 1),\n",
       " ('ew.com', 1),\n",
       " ('classicrock1051.com', 1),\n",
       " ('investingnews.com', 1),\n",
       " ('www.econotimes.com', 1),\n",
       " ('www.granthamjournal.co.uk', 1),\n",
       " ('www.vir.com.vn', 1),\n",
       " ('www.wogx.com', 1),\n",
       " ('www.getreading.co.uk', 1),\n",
       " ('www.rnz.co.nz', 1),\n",
       " ('www.wamc.org', 1),\n",
       " ('brobible.com', 1),\n",
       " ('www.whio.com', 1),\n",
       " ('www.newstatesman.com', 1),\n",
       " ('1005thewolf.iheart.com', 1),\n",
       " ('www.hockessincommunitynews.com', 1),\n",
       " ('www.newshub.co.nz', 1),\n",
       " ('dankennedy.net', 1),\n",
       " ('www.jta.org', 1),\n",
       " ('www.georgeherald.com', 1),\n",
       " ('www.biospectrumindia.com', 1),\n",
       " ('www.kashmirtimes.com', 1),\n",
       " ('www.eveshamjournal.co.uk', 1),\n",
       " ('carbon-pulse.com', 1),\n",
       " ('mix931fm.com', 1),\n",
       " ('www.blackenterprise.com', 1),\n",
       " ('650keni.iheart.com', 1),\n",
       " ('uk.news.yahoo.com', 1),\n",
       " ('www.portsmouth-dailytimes.com', 1),\n",
       " ('www.frasercoastchronicle.com.au', 1),\n",
       " ('www.lngindustry.com', 1),\n",
       " ('kiak.iheart.com', 1),\n",
       " ('mix999fm.iheart.com', 1),\n",
       " ('www.sherwoodparknews.com', 1),\n",
       " ('country105.com', 1),\n",
       " ('thenews-chronicle.com', 1),\n",
       " ('en.chessbase.com', 1),\n",
       " ('www.gazettelive.co.uk', 1),\n",
       " ('www.wistv.com', 1),\n",
       " ('kdwb.iheart.com', 1),\n",
       " ('knowtechie.com', 1),\n",
       " ('www.wxxi.org', 1),\n",
       " ('www.comunicati.net', 1),\n",
       " ('www.whvoradio.com', 1),\n",
       " ('newstalkkit.com', 1),\n",
       " ('variety.com', 1),\n",
       " ('1055online.iheart.com', 1),\n",
       " ('www.aspenpublicradio.org', 1),\n",
       " ('www.gq.com', 1),\n",
       " ('www.gsmarena.com', 1),\n",
       " ('today.rtl.lu', 1),\n",
       " ('blogs.timesofisrael.com', 1),\n",
       " ('www.newvision.co.ug', 1),\n",
       " ('wflanews.iheart.com', 1),\n",
       " ('www.armytimes.com', 1),\n",
       " ('www.fiba.basketball', 1),\n",
       " ('literock969.com', 1),\n",
       " ('www.thenorthwestern.com', 1),\n",
       " ('95rockfm.com', 1),\n",
       " ('www.chanute.com', 1),\n",
       " ('www.arabamericannews.com', 1),\n",
       " ('magneticmediatv.com', 1),\n",
       " ('www.kvoo.com', 1),\n",
       " ('www.ktep.org', 1),\n",
       " ('www.brainerddispatch.com', 1),\n",
       " ('www.nola.com', 1),\n",
       " ('visayandailystar.com', 1),\n",
       " ('www.nme.com', 1),\n",
       " ('www.kltv.com', 1),\n",
       " ('www.mbcradio.com', 1),\n",
       " ('970wfla.iheart.com', 1),\n",
       " ('wbckfm.com', 1),\n",
       " ('www.postandcourier.com', 1),\n",
       " ('eagle1075.iheart.com', 1),\n",
       " ('royalcentral.co.uk', 1),\n",
       " ('www.squamishchief.com', 1),\n",
       " ('www.phonearena.com', 1),\n",
       " ('www.thisisoxfordshire.co.uk', 1),\n",
       " ('www.kcur.org', 1),\n",
       " ('www.valleymorningstar.com', 1),\n",
       " ('www.q929fm.com', 1),\n",
       " ('www.furninfo.com', 1),\n",
       " ('www.1310news.com', 1),\n",
       " ...]"
      ]
     },
     "execution_count": 28,

    
          
            
          
    
    
  
     "metadata": {},
     "output_type": "execute_result"
    }
   ],
   "source": [
    "from collections import Counter\n",
    "count = Counter(ls)\n",
    "sorted(count.items(), key=lambda c: c[1],reverse=True)\n",
    "\n",
    "#############,\n",
    "\n",
    "df.label.value_counts()\n"
   ]
  },
  {
   "cell_type": "markdown",
   "metadata": {
    "hidden": true
   },
   "source": [
    "New heading"
   ]
  },
  {
   "cell_type": "markdown",
   "metadata": {
    "heading_collapsed": true
   },
   "source": [
    "## Change the dataType to date"
   ]
  },
  {
   "cell_type": "code",
   "execution_count": null,
   "metadata": {
    "hidden": true
   },
   "outputs": [],
   "source": [
    "df['date'] = pd.to_datetime(df.date)\n",
    "df['date'] = newdf['date'].dt.strftime('%d/%m/%Y')"
   ]
  },
  {
   "cell_type": "markdown",
   "metadata": {
    "heading_collapsed": true
   },
   "source": [
    "## Sort the data, starting from november datewise"
   ]
  },
  {
   "cell_type": "code",
   "execution_count": null,
   "metadata": {
    "hidden": true
   },
   "outputs": [],
   "source": [
    "df = df.sort_values(by=['Date'])\n",
    "df = df.reset_index()"
   ]
  },
  {
   "cell_type": "markdown",
   "metadata": {
    "heading_collapsed": true
   },
   "source": [
    "## Data between specific dates"
   ]
  },
  {
   "cell_type": "code",
   "execution_count": null,
   "metadata": {
    "hidden": true
   },
   "outputs": [],
   "source": [
    "import datetime \n",
    "df = df[(df['Date'] > '2019-11-01') & (df['Date'] < '2020-01-02')]"
   ]
  },
  {
   "cell_type": "markdown",
   "metadata": {
    "heading_collapsed": true
   },
   "source": [
    "## Make first row as header"
   ]
  },
  {
   "cell_type": "code",
   "execution_count": null,
   "metadata": {
    "hidden": true
   },
   "outputs": [],
   "source": [
    "new_header = df.iloc[0] #grab the first row for the header\n",
    "df = df[1:] #take the data less the header row\n",
    "df.columns = new_header #set the header row as the df header"
   ]
  },
  {
   "cell_type": "markdown",
   "metadata": {},
   "source": [
    "## Merging two csv files or Dataframe "
   ]
  },
  {
   "cell_type": "code",
   "execution_count": null,
   "metadata": {},
   "outputs": [],
   "source": [
    "result = pd.concat([df1, s1], axis=0, ignore_index=True)"
   ]
  },
  {
   "cell_type": "markdown",
   "metadata": {
    "heading_collapsed": true
   },
   "source": [
    "## Rename columns or new column name or Rearrange "
   ]
  },
  {
   "cell_type": "code",
   "execution_count": null,
   "metadata": {
    "hidden": true
   },
   "outputs": [],
   "source": [
    "df.rename(columns={'oldName1': 'newName1', 'oldName2': 'newName2'}, inplace=True)\n",
    "#or\n",
    "df.columns = ['Date', 'URL','Headline','Body'] # if no headers at all\n",
    "#or\n",
    "df = pd.read_csv('20191101-20200326-falsehoods.csv',header = None,names = names)\n",
    "#rearrange\n",
    "df = df[['mean', '0', '1', '2', '3']]"
   ]
  },
  {
   "cell_type": "markdown",
   "metadata": {
    "heading_collapsed": true
   },
   "source": [
    "## Making new columns and dataframe and adding values"
   ]
  },
  {
   "cell_type": "code",
   "execution_count": null,
   "metadata": {
    "hidden": true
   },
   "outputs": [],
   "source": [
    "column_names = [\"Date\",\"Headline\", \"Body\", \"URL\",\"nWords\",\"FakeNews\"]\n",
    "df1 = pd.DataFrame(lst,columns = column_names)"
   ]
  },
  {
   "cell_type": "markdown",
   "metadata": {
    "heading_collapsed": true
   },
   "source": [
    "## Writing dataframe into csv "
   ]
  },
  {
   "cell_type": "code",
   "execution_count": null,
   "metadata": {
    "hidden": true
   },
   "outputs": [],
   "source": [
    "df1.to_csv (r'C:\\Users\\Sandeep\\Documents\\Git\\Masters-Thesis\\Covid_dataset800.csv', index = False, header=True)"
   ]
  },
  {
   "cell_type": "markdown",
   "metadata": {
    "heading_collapsed": true
   },
   "source": [
    "## Finding index of an item in list :"
   ]
  },
  {
   "cell_type": "code",
   "execution_count": null,
   "metadata": {
    "hidden": true
   },
   "outputs": [],
   "source": [
    "indexes = [i for i,x in enumerate(xs) if x == 'foo']"
   ]
  },
  {
   "cell_type": "markdown",
   "metadata": {
    "heading_collapsed": true
   },
   "source": [
    "## For scraping to the next page"
   ]
  },
  {
   "cell_type": "code",
   "execution_count": null,
   "metadata": {
    "hidden": true
   },
   "outputs": [],
   "source": [
    "response.css(\"li.page-item a.page-link\").xpath(\"@href\")[1].extract() \n",
    "#li = list , . means class, page-item is a class name , then inside that there is aanchor a, . = class, \n",
    "#page-link =class name, further all the links \n",
    "#or\n",
    "response.xpath(\"//a[@class='page-link']/@href\")[1].extract() #or\n",
    "\n",
    "response.css(\"a.page-link\").xpath(\"@href\")[1].extract()"
   ]
  },
  {
   "cell_type": "markdown",
   "metadata": {
    "heading_collapsed": true
   },
   "source": [
    "## Get index of rows which column matches certain value"
   ]
  },
  {
   "cell_type": "code",
   "execution_count": null,
   "metadata": {
    "hidden": true
   },
   "outputs": [],
   "source": [
    "df.index[df['BoolCol'] == True].tolist()"
   ]
  },
  {
   "cell_type": "markdown",
   "metadata": {
    "heading_collapsed": true
   },
   "source": [
    "## Drop 1 column with Nan value :"
   ]
  },
  {
   "cell_type": "code",
   "execution_count": null,
   "metadata": {
    "hidden": true
   },
   "outputs": [],
   "source": [
    "df = df.dropna(subset=[col_list])"
   ]
  },
  {
   "cell_type": "markdown",
   "metadata": {
    "heading_collapsed": true
   },
   "source": [
    "##  Create a new row for each comma separated value in a column in pandas"
   ]
  },
  {
   "cell_type": "code",
   "execution_count": null,
   "metadata": {
    "hidden": true
   },
   "outputs": [],
   "source": [
    "df1 = (df.assign(url = df['url'].str.split(','))\n",
    "         .explode('url')\n",
    "         .reset_index(drop=True))"
   ]
  },
  {
   "cell_type": "markdown",
   "metadata": {
    "heading_collapsed": true
   },
   "source": [
    "## Removing everything after certain pattern:"
   ]
  },
  {
   "cell_type": "code",
   "execution_count": null,
   "metadata": {
    "hidden": true
   },
   "outputs": [],
   "source": [
    "body = body2.split(\"Sources for this\",1 )[0]"
   ]
  },
  {
   "cell_type": "markdown",
   "metadata": {
    "heading_collapsed": true
   },
   "source": [
    "## Removinig html tags from scrapy :"
   ]
  },
  {
   "cell_type": "code",
   "execution_count": null,
   "metadata": {
    "hidden": true
   },
   "outputs": [],
   "source": [
    "import w3lib.html\n",
    "output= w3lib.html.remove_tags(input)\n"
   ]
  },
  {
   "cell_type": "markdown",
   "metadata": {
    "heading_collapsed": true
   },
   "source": [
    "## Changing string date into date format panda column:"
   ]
  },
  {
   "cell_type": "code",
   "execution_count": null,
   "metadata": {
    "hidden": true
   },
   "outputs": [],
   "source": [
    "from dateutil.parser import parse\n",
    "date1= []\n",
    "for items in df.date:\n",
    "    dt = parse(items)\n",
    "    dt1 = dt.strftime('%d/%m/%Y')\n",
    "    date1.append(dt1)\n",
    "\n",
    "df['date1']= date1\n",
    "\n",
    "df = df.drop(['date'], axis=1)\n",
    "\n",
    "df.rename(columns={'date1': 'date'}, inplace=True)\n",
    "df = df[['date','title','body','url']]"
   ]
  },
  {
   "cell_type": "markdown",
   "metadata": {
    "heading_collapsed": true
   },
   "source": [
    "## Date from metadate from html page :"
   ]
  },
  {
   "cell_type": "code",
   "execution_count": null,
   "metadata": {
    "hidden": true
   },
   "outputs": [],
   "source": [
    "date = response.xpath(\"//meta[@property='article:published_time']/@content\").extract()"
   ]
  },
  {
   "cell_type": "markdown",
   "metadata": {
    "heading_collapsed": true
   },
   "source": [
    "## For getting rows based on values with OR condition "
   ]
  },
  {
   "cell_type": "code",
   "execution_count": null,
   "metadata": {
    "hidden": true
   },
   "outputs": [],
   "source": [
    "res = df[(df['class'] =='FALSE') | (df['class'] =='Misleading')] "
   ]
  },
  {
   "cell_type": "markdown",
   "metadata": {
    "heading_collapsed": true
   },
   "source": [
    "## To remove specific word from string:"
   ]
  },
  {
   "cell_type": "code",
   "execution_count": null,
   "metadata": {
    "hidden": true
   },
   "outputs": [],
   "source": [
    "stopwords = ['misleading', 'no', 'not', 'true', 'fake', 'nor', 'falsely','mock','old','false',]\n",
    "querywords = title4.split()\n",
    "resultwords  = [word for word in querywords if word.lower() not in stopwords]\n",
    "title = ' '.join(resultwords)"
   ]
  },
  {
   "cell_type": "markdown",
   "metadata": {
    "heading_collapsed": true
   },
   "source": [
    "## Removing everything before a certain word:"
   ]
  },
  {
   "cell_type": "code",
   "execution_count": null,
   "metadata": {
    "hidden": true
   },
   "outputs": [],
   "source": [
    "body3 = re.sub(r'^.*?Circulating ', 'Circulating', body2)"
   ]
  },
  {
   "cell_type": "markdown",
   "metadata": {
    "heading_collapsed": true
   },
   "source": [
    "## Extracting first and last words of list :"
   ]
  },
  {
   "cell_type": "code",
   "execution_count": null,
   "metadata": {
    "hidden": true
   },
   "outputs": [],
   "source": [
    "first, *middle, last = my_str.split()"
   ]
  },
  {
   "cell_type": "markdown",
   "metadata": {
    "heading_collapsed": true
   },
   "source": [
    "## Replace empty string with word"
   ]
  },
  {
   "cell_type": "code",
   "execution_count": null,
   "metadata": {
    "hidden": true
   },
   "outputs": [],
   "source": [
    "df.url = df.url.replace(np.nan, \"facebook\", regex=True)"
   ]
  },
  {
   "cell_type": "markdown",
   "metadata": {
    "heading_collapsed": true
   },
   "source": [
    "## write csv "
   ]
  },
  {
   "cell_type": "code",
   "execution_count": null,
   "metadata": {
    "hidden": true
   },
   "outputs": [],
   "source": [
    "df.to_csv (r'C:\\Users\\Sandeep\\Documents\\Git\\Masters-Thesis\\covid_fake_update_new.csv', index = False, header=True)"
   ]
  },
  {
   "cell_type": "markdown",
   "metadata": {
    "heading_collapsed": true
   },
   "source": [
    "## Replace value of all the rows of a column which contains bla bla"
   ]
  },
  {
   "cell_type": "code",
   "execution_count": null,
   "metadata": {
    "hidden": true
   },
   "outputs": [],
   "source": [
    "df.loc[df['url'].str.contains(\"express.co.uk\"), ['fact_check']] = 'https://www.mywot.com/,  Trustworthiness : 86 percent'"
   ]
  },
  {
   "cell_type": "code",
   "execution_count": null,
   "metadata": {
    "hidden": true
   },
   "outputs": [],
   "source": []
  },
  {
   "cell_type": "code",
   "execution_count": null,
   "metadata": {
    "hidden": true
   },
   "outputs": [],
   "source": []
  },
  {
   "cell_type": "code",
   "execution_count": null,
   "metadata": {
    "hidden": true
   },
   "outputs": [],
   "source": []
  }
 ],
 "metadata": {
  "kernelspec": {
   "display_name": "Python 3",
   "language": "python",
   "name": "python3"
  },
  "language_info": {
   "codemirror_mode": {
    "name": "ipython",
    "version": 3
   },
   "file_extension": ".py",
   "mimetype": "text/x-python",
   "name": "python",
   "nbconvert_exporter": "python",
   "pygments_lexer": "ipython3",
   "version": "3.7.7"
  }
 },
 "nbformat": 4,
 "nbformat_minor": 4
}